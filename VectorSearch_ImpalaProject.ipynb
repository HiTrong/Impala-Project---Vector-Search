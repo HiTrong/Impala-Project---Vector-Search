{
 "cells": [
  {
   "cell_type": "markdown",
   "id": "19c5083f",
   "metadata": {},
   "source": [
    "# Impala Project - Vector Search\n",
    "- Impala có rất nhiều các ưu điểm như: Hiệu suất cao, Xử lý song song khối lượng lớn, là công cụ SQL có hiệu suất cao nhất (mang lại trải nghiệm giống RDBMS), cung cấp cách nhanh nhất để truy cập dữ liệu được lưu trữ trong Hệ thống tệp phân tán Hadoop,...\n",
    "- Lợi dụng những ưu điểm đó Project này sẽ sử dụng Impala để làm Query engine để mô phỏng Vector Search cho một hệ thống gợi ý anime cho user\n",
    "- Các thao tác trong Project này bao gồm các bước sau:\n",
    "\n",
    "\n",
    "**1. Kết nối với Impala bằng gói thư viện Impyla**\n",
    "\n",
    "**2. Vector hóa dữ liệu, chuyển thành file parquet và đẩy vào database**\n",
    "\n",
    "**3. Xây dựng hệ thống truy vấn so sánh vector - Vector Search**\n",
    "![Ảnh minh họa Apacha Impala](https://editor.analyticsvidhya.com/uploads/58241impala-800x445.jpg)\n",
    "\n",
    "## 1. Kết nối với Impala bằng gói thư viện Impyla\n",
    "- Ta cần setup một máy ảo Cloudera Distribution for Hadoop (có hỗ trợ Impala)\n",
    "- Tiếp theo ta cần biết được địa chỉ IP của máy ảo đó\n",
    "- Cổng mặc định của Impala là 21050"
   ]
  },
  {
   "cell_type": "code",
   "execution_count": 1,
   "id": "ac0ec5e8",
   "metadata": {},
   "outputs": [],
   "source": [
    "from impala.dbapi import connect\n",
    "IP = '192.168.1.65'"
   ]
  },
  {
   "cell_type": "code",
   "execution_count": 2,
   "id": "d8d48e6f",
   "metadata": {},
   "outputs": [
    {
     "name": "stdout",
     "output_type": "stream",
     "text": [
      "_impala_builtins\n",
      "default\n",
      "Kết nối thành công\n"
     ]
    }
   ],
   "source": [
    "# Test kết nối\n",
    "try:\n",
    "    conn = connect(host=IP)\n",
    "\n",
    "    # Tạo một đối tượng cursor để thực thi truy vấn\n",
    "    cursor = conn.cursor()\n",
    "\n",
    "    # Thực hiện truy vấn SQL để liệt kê các cơ sở dữ liệu\n",
    "    cursor.execute('SHOW DATABASES')\n",
    "\n",
    "    # Lấy kết quả truy vấn\n",
    "    databases = cursor.fetchall()\n",
    "\n",
    "    # In danh sách các cơ sở dữ liệu\n",
    "    for db in databases:\n",
    "        print(db[0])\n",
    "\n",
    "    # Đóng kết nối\n",
    "    cursor.close()\n",
    "    conn.close()\n",
    "    print(\"Kết nối thành công\")\n",
    "except Exception as err:\n",
    "    print(\"Lỗi kết nối!\")"
   ]
  },
  {
   "cell_type": "markdown",
   "id": "032add74",
   "metadata": {},
   "source": [
    "### Thiết kế hàm Query"
   ]
  },
  {
   "cell_type": "code",
   "execution_count": 26,
   "id": "b9e4f592",
   "metadata": {},
   "outputs": [],
   "source": [
    "def Impala_Query(query,db_name=\"\"):\n",
    "    try:\n",
    "        conn = connect(host=IP)\n",
    "        cursor = conn.cursor()\n",
    "\n",
    "        # Thực hiện truy vấn SQL để liệt kê các cơ sở dữ liệu\n",
    "        if (db_name!= \"\"):\n",
    "            cursor.execute(f\"USE {db_name}\")\n",
    "        cursor.execute(query)\n",
    "        \n",
    "        # Lấy kết quả truy vấn\n",
    "        result = cursor.fetchall()\n",
    "\n",
    "        # Đóng kết nối\n",
    "        cursor.close()\n",
    "        conn.close()\n",
    "        return result\n",
    "    except:\n",
    "        return None"
   ]
  },
  {
   "cell_type": "code",
   "execution_count": 4,
   "id": "4377d592",
   "metadata": {},
   "outputs": [
    {
     "data": {
      "text/plain": [
       "[]"
      ]
     },
     "execution_count": 4,
     "metadata": {},
     "output_type": "execute_result"
    }
   ],
   "source": [
    "Impala_Query(\"SHOW TABLES\",\"default\")"
   ]
  },
  {
   "cell_type": "markdown",
   "id": "1f4ade8e",
   "metadata": {},
   "source": [
    "## 2. Vector hóa dữ liệu, chuyển thành file parquet và đẩy vào database\n",
    "- Tóm tắt thao tác\n",
    "| Bước thao tác | Tóm tắt |\n",
    "|------|---------|\n",
    "| 1 | data (csv) -> (Vector hóa) -> vectors |\n",
    "| 2 | vectors -> (Ghi file) -> file parquet |\n",
    "| 3 | File parquet -> (đẩy vào máy ảo và tải lên hdfs thông qua phương thức ssh) |\n",
    "| 4 | Tạo external table theo file parquet có trên hdfs |\n",
    "\n",
    "\n",
    "\n",
    "- Cấu trúc database: vectordb\n",
    "\n",
    "\n",
    "> - **Bảng anime_vector:** Dùng để lưu trữ các vector (index và value của vector) đại diện cho content của các bộ phim anime được sử dụng cho vector search xây dựng hệ thống gợi ý Content-Based Collaborative Filtering Recommend System. Ngoài ra ta có thể lưu trữ ở dạng complex type như ARRAY Nhưng vì máy tính cá nhân có giới hạn về phần cứng cho nên nếu đặt kiểu dữ liệu ARRAY thì truy vấn rất tốn kém tài nguyên máy. Cho nên ở đây ta sẽ chọn cách lưu trữ index và value của một vector để tối ưu nhất có thể trong việc lưu trữ vector trong ma trận thưa \n",
    "\n",
    "\n",
    "| Field  | Data Type  |\n",
    "|--------|------------|\n",
    "| vector_id     | INT |\n",
    "| vector_index | INT |\n",
    "| vector_value | INT |\n",
    "\n",
    "```sql\n",
    "CREATE EXTERNAL TABLE anime_vector (\n",
    "  vector_id INT,\n",
    "  vector_index INT,\n",
    "  vector_value INT\n",
    ")\n",
    "STORED AS PARQUET\n",
    "LOCATION 'hdfs://quickstart.cloudera:8020/user/hoaitrong/anime_vector_parquet';\n",
    "```\n",
    "\n",
    "> - **Bảng anime_mapping:** Dùng để lưu trữ thông tin của bộ phim anime tương ứng với vector_id\n",
    "\n",
    "\n",
    "| Field      | Data Type |\n",
    "|------------|-----------|\n",
    "| vector_id  | INT       |\n",
    "| title      | STRING    |\n",
    "| img_url    | STRING    |\n",
    "| link       | STRING    |\n",
    "\n",
    "```sql\n",
    "CREATE EXTERNAL TABLE anime_mapping (\n",
    "  vector_id INT,\n",
    "  title STRING,\n",
    "  img_url STRING,\n",
    "  link STRING\n",
    ")\n",
    "STORED AS PARQUET\n",
    "LOCATION 'hdfs://quickstart.cloudera:8020/user/hoaitrong/anime_mapping_parquet';\n",
    "```"
   ]
  },
  {
   "cell_type": "markdown",
   "id": "b670c668",
   "metadata": {},
   "source": [
    "### Xử lý dữ liệu và vector hóa\n",
    "- Nguồn: [Anime Dataset with Reviews - MyAnimeList (Kaggle)](https://www.kaggle.com/datasets/marlesson/myanimelist-dataset-animes-profiles-reviews)\n",
    "- Tên file sử dụng: animes.csv\n",
    "- Mô tả: Tập dữ liệu \"animes.csv\" chứa thông tin về các bộ anime, bao gồm các trường dữ liệu quan trọng như tiêu đề, các đồng nghĩa của tiêu đề, thể loại, thời lượng, xếp hạng, độ phổ biến, điểm số, ngày phát sóng, số tập và nhiều thông tin khác. Dữ liệu này cung cấp đủ thông tin để phân tích các xu hướng theo thời gian về các khía cạnh quan trọng của anime."
   ]
  },
  {
   "cell_type": "code",
   "execution_count": 3,
   "id": "8bca2089",
   "metadata": {},
   "outputs": [
    {
     "name": "stderr",
     "output_type": "stream",
     "text": [
      "C:\\Users\\ADMIN\\anaconda3\\lib\\site-packages\\pandas\\core\\computation\\expressions.py:21: UserWarning: Pandas requires version '2.8.4' or newer of 'numexpr' (version '2.8.3' currently installed).\n",
      "  from pandas.core.computation.check import NUMEXPR_INSTALLED\n",
      "C:\\Users\\ADMIN\\anaconda3\\lib\\site-packages\\pandas\\core\\arrays\\masked.py:60: UserWarning: Pandas requires version '1.3.6' or newer of 'bottleneck' (version '1.3.5' currently installed).\n",
      "  from pandas.core import (\n"
     ]
    }
   ],
   "source": [
    "# import Library\n",
    "import numpy as np\n",
    "import pandas as pd\n",
    "import warnings\n",
    "warnings.filterwarnings(\"ignore\")"
   ]
  },
  {
   "cell_type": "code",
   "execution_count": 4,
   "id": "d0d6fe01",
   "metadata": {
    "scrolled": false
   },
   "outputs": [
    {
     "data": {
      "text/html": [
       "<div>\n",
       "<style scoped>\n",
       "    .dataframe tbody tr th:only-of-type {\n",
       "        vertical-align: middle;\n",
       "    }\n",
       "\n",
       "    .dataframe tbody tr th {\n",
       "        vertical-align: top;\n",
       "    }\n",
       "\n",
       "    .dataframe thead th {\n",
       "        text-align: right;\n",
       "    }\n",
       "</style>\n",
       "<table border=\"1\" class=\"dataframe\">\n",
       "  <thead>\n",
       "    <tr style=\"text-align: right;\">\n",
       "      <th></th>\n",
       "      <th>uid</th>\n",
       "      <th>title</th>\n",
       "      <th>synopsis</th>\n",
       "      <th>genre</th>\n",
       "      <th>aired</th>\n",
       "      <th>episodes</th>\n",
       "      <th>members</th>\n",
       "      <th>popularity</th>\n",
       "      <th>ranked</th>\n",
       "      <th>score</th>\n",
       "      <th>img_url</th>\n",
       "      <th>link</th>\n",
       "    </tr>\n",
       "  </thead>\n",
       "  <tbody>\n",
       "    <tr>\n",
       "      <th>0</th>\n",
       "      <td>28891</td>\n",
       "      <td>Haikyuu!! Second Season</td>\n",
       "      <td>Following their participation at the Inter-Hig...</td>\n",
       "      <td>['Comedy', 'Sports', 'Drama', 'School', 'Shoun...</td>\n",
       "      <td>Oct 4, 2015 to Mar 27, 2016</td>\n",
       "      <td>25.0</td>\n",
       "      <td>489888</td>\n",
       "      <td>141</td>\n",
       "      <td>25.0</td>\n",
       "      <td>8.82</td>\n",
       "      <td>https://cdn.myanimelist.net/images/anime/9/766...</td>\n",
       "      <td>https://myanimelist.net/anime/28891/Haikyuu_Se...</td>\n",
       "    </tr>\n",
       "    <tr>\n",
       "      <th>1</th>\n",
       "      <td>23273</td>\n",
       "      <td>Shigatsu wa Kimi no Uso</td>\n",
       "      <td>Music accompanies the path of the human metron...</td>\n",
       "      <td>['Drama', 'Music', 'Romance', 'School', 'Shoun...</td>\n",
       "      <td>Oct 10, 2014 to Mar 20, 2015</td>\n",
       "      <td>22.0</td>\n",
       "      <td>995473</td>\n",
       "      <td>28</td>\n",
       "      <td>24.0</td>\n",
       "      <td>8.83</td>\n",
       "      <td>https://cdn.myanimelist.net/images/anime/3/671...</td>\n",
       "      <td>https://myanimelist.net/anime/23273/Shigatsu_w...</td>\n",
       "    </tr>\n",
       "    <tr>\n",
       "      <th>2</th>\n",
       "      <td>34599</td>\n",
       "      <td>Made in Abyss</td>\n",
       "      <td>The Abyss—a gaping chasm stretching down into ...</td>\n",
       "      <td>['Sci-Fi', 'Adventure', 'Mystery', 'Drama', 'F...</td>\n",
       "      <td>Jul 7, 2017 to Sep 29, 2017</td>\n",
       "      <td>13.0</td>\n",
       "      <td>581663</td>\n",
       "      <td>98</td>\n",
       "      <td>23.0</td>\n",
       "      <td>8.83</td>\n",
       "      <td>https://cdn.myanimelist.net/images/anime/6/867...</td>\n",
       "      <td>https://myanimelist.net/anime/34599/Made_in_Abyss</td>\n",
       "    </tr>\n",
       "    <tr>\n",
       "      <th>3</th>\n",
       "      <td>5114</td>\n",
       "      <td>Fullmetal Alchemist: Brotherhood</td>\n",
       "      <td>\"In order for something to be obtained, someth...</td>\n",
       "      <td>['Action', 'Military', 'Adventure', 'Comedy', ...</td>\n",
       "      <td>Apr 5, 2009 to Jul 4, 2010</td>\n",
       "      <td>64.0</td>\n",
       "      <td>1615084</td>\n",
       "      <td>4</td>\n",
       "      <td>1.0</td>\n",
       "      <td>9.23</td>\n",
       "      <td>https://cdn.myanimelist.net/images/anime/1223/...</td>\n",
       "      <td>https://myanimelist.net/anime/5114/Fullmetal_A...</td>\n",
       "    </tr>\n",
       "    <tr>\n",
       "      <th>4</th>\n",
       "      <td>31758</td>\n",
       "      <td>Kizumonogatari III: Reiketsu-hen</td>\n",
       "      <td>After helping revive the legendary vampire Kis...</td>\n",
       "      <td>['Action', 'Mystery', 'Supernatural', 'Vampire']</td>\n",
       "      <td>Jan 6, 2017</td>\n",
       "      <td>1.0</td>\n",
       "      <td>214621</td>\n",
       "      <td>502</td>\n",
       "      <td>22.0</td>\n",
       "      <td>8.83</td>\n",
       "      <td>https://cdn.myanimelist.net/images/anime/3/815...</td>\n",
       "      <td>https://myanimelist.net/anime/31758/Kizumonoga...</td>\n",
       "    </tr>\n",
       "  </tbody>\n",
       "</table>\n",
       "</div>"
      ],
      "text/plain": [
       "     uid                             title  \\\n",
       "0  28891           Haikyuu!! Second Season   \n",
       "1  23273           Shigatsu wa Kimi no Uso   \n",
       "2  34599                     Made in Abyss   \n",
       "3   5114  Fullmetal Alchemist: Brotherhood   \n",
       "4  31758  Kizumonogatari III: Reiketsu-hen   \n",
       "\n",
       "                                            synopsis  \\\n",
       "0  Following their participation at the Inter-Hig...   \n",
       "1  Music accompanies the path of the human metron...   \n",
       "2  The Abyss—a gaping chasm stretching down into ...   \n",
       "3  \"In order for something to be obtained, someth...   \n",
       "4  After helping revive the legendary vampire Kis...   \n",
       "\n",
       "                                               genre  \\\n",
       "0  ['Comedy', 'Sports', 'Drama', 'School', 'Shoun...   \n",
       "1  ['Drama', 'Music', 'Romance', 'School', 'Shoun...   \n",
       "2  ['Sci-Fi', 'Adventure', 'Mystery', 'Drama', 'F...   \n",
       "3  ['Action', 'Military', 'Adventure', 'Comedy', ...   \n",
       "4   ['Action', 'Mystery', 'Supernatural', 'Vampire']   \n",
       "\n",
       "                          aired  episodes  members  popularity  ranked  score  \\\n",
       "0   Oct 4, 2015 to Mar 27, 2016      25.0   489888         141    25.0   8.82   \n",
       "1  Oct 10, 2014 to Mar 20, 2015      22.0   995473          28    24.0   8.83   \n",
       "2   Jul 7, 2017 to Sep 29, 2017      13.0   581663          98    23.0   8.83   \n",
       "3    Apr 5, 2009 to Jul 4, 2010      64.0  1615084           4     1.0   9.23   \n",
       "4                   Jan 6, 2017       1.0   214621         502    22.0   8.83   \n",
       "\n",
       "                                             img_url  \\\n",
       "0  https://cdn.myanimelist.net/images/anime/9/766...   \n",
       "1  https://cdn.myanimelist.net/images/anime/3/671...   \n",
       "2  https://cdn.myanimelist.net/images/anime/6/867...   \n",
       "3  https://cdn.myanimelist.net/images/anime/1223/...   \n",
       "4  https://cdn.myanimelist.net/images/anime/3/815...   \n",
       "\n",
       "                                                link  \n",
       "0  https://myanimelist.net/anime/28891/Haikyuu_Se...  \n",
       "1  https://myanimelist.net/anime/23273/Shigatsu_w...  \n",
       "2  https://myanimelist.net/anime/34599/Made_in_Abyss  \n",
       "3  https://myanimelist.net/anime/5114/Fullmetal_A...  \n",
       "4  https://myanimelist.net/anime/31758/Kizumonoga...  "
      ]
     },
     "execution_count": 4,
     "metadata": {},
     "output_type": "execute_result"
    }
   ],
   "source": [
    "# import dataset\n",
    "df = pd.read_csv(\"./csv/animes.csv\")\n",
    "df.drop_duplicates(inplace=True)\n",
    "df.head(5)"
   ]
  },
  {
   "cell_type": "code",
   "execution_count": 5,
   "id": "13d487a9",
   "metadata": {},
   "outputs": [
    {
     "data": {
      "text/plain": [
       "(16368, 12)"
      ]
     },
     "execution_count": 5,
     "metadata": {},
     "output_type": "execute_result"
    }
   ],
   "source": [
    "df.shape"
   ]
  },
  {
   "cell_type": "markdown",
   "id": "5f02e5b6",
   "metadata": {},
   "source": [
    "- Ở đây em chọn content đặc trưng cho anime là bao gồm synopsis (tóm tắt) và genre (thể loại) để vector hóa nó\n",
    "- Xử lý dữ liệu:\n",
    "> - Đối với **genre**: Ta loại bỏ các ký tự đặc biệt\n",
    "> - Đối với **synopsis**: Ta sẽ fillna và sử dụng Rake - một thư viện xử lý ngôn ngữ để trích lọc các từ khóa quan trọng có trong đoạn văn bản tóm tắt"
   ]
  },
  {
   "cell_type": "code",
   "execution_count": 6,
   "id": "6fdc0d8f",
   "metadata": {},
   "outputs": [],
   "source": [
    "syp = df['synopsis']\n",
    "genre = df['genre']"
   ]
  },
  {
   "cell_type": "code",
   "execution_count": 7,
   "id": "6cf61bd4",
   "metadata": {},
   "outputs": [
    {
     "data": {
      "text/plain": [
       "0                       Comedy Sports Drama School Shounen\n",
       "1                       Drama Music Romance School Shounen\n",
       "2                   Sci-Fi Adventure Mystery Drama Fantasy\n",
       "3        Action Military Adventure Comedy Drama Magic F...\n",
       "4                      Action Mystery Supernatural Vampire\n",
       "                               ...                        \n",
       "19002       Action Comedy Super Power Martial Arts Shounen\n",
       "19003                    Slice of Life Comedy Supernatural\n",
       "19004                         Slice of Life Comedy Shounen\n",
       "19005                                               Action\n",
       "19006            Comedy Drama Romance School Slice of Life\n",
       "Name: genre, Length: 16368, dtype: object"
      ]
     },
     "execution_count": 7,
     "metadata": {},
     "output_type": "execute_result"
    }
   ],
   "source": [
    "# Xử lí genre\n",
    "genre = genre.str.replace('[','')\n",
    "genre = genre.str.replace(']','')\n",
    "genre = genre.str.replace(\"'\",\"\")\n",
    "genre = genre.str.replace(\",\",\"\")\n",
    "genre"
   ]
  },
  {
   "cell_type": "code",
   "execution_count": 8,
   "id": "37a8669a",
   "metadata": {},
   "outputs": [
    {
     "name": "stderr",
     "output_type": "stream",
     "text": [
      "[nltk_data] Downloading package stopwords to\n",
      "[nltk_data]     C:\\Users\\ADMIN\\AppData\\Roaming\\nltk_data...\n",
      "[nltk_data]   Package stopwords is already up-to-date!\n",
      "[nltk_data] Downloading package punkt to\n",
      "[nltk_data]     C:\\Users\\ADMIN\\AppData\\Roaming\\nltk_data...\n",
      "[nltk_data]   Package punkt is already up-to-date!\n"
     ]
    },
    {
     "data": {
      "text/plain": [
       "' large training camp alongside many notable volleyball teams karasuno high school volleyball team attempts volleyball team must learn overcome formidable opponents old class setter tooru oikawa standing rival nekoma high spring tournament instead senior players graduate national level players could possibly break archrival aoba jousai new — including toughest teams karasuno agrees new attacks would strengthen train harder take part powerful weapon mal rewrite last chance kageyama attempt also come high karasuno written world victory tokyo sturdiest skills sharpen settle refocus receive playing participation one moreover members may long japan invitation inter hope hope hinata following facing ever even efforts differences devise conquer blocks aiming'"
      ]
     },
     "execution_count": 8,
     "metadata": {},
     "output_type": "execute_result"
    }
   ],
   "source": [
    "# Xử lí syp\n",
    "syp = syp.fillna(' ')\n",
    "\n",
    "# Sử dụng thư viện rake_nltk để rút trích từ khóa quan trọng có trong synopsis\n",
    "from rake_nltk import Rake\n",
    "import nltk\n",
    "nltk.download('stopwords')\n",
    "nltk.download('punkt')\n",
    "\n",
    "rake = Rake()\n",
    "keywords = []\n",
    "for plot in syp:\n",
    "    rake.extract_keywords_from_text(plot)\n",
    "    keywords_i = rake.get_ranked_phrases()\n",
    "    keywords_i_string = \"\"\n",
    "    for keyword in keywords_i:\n",
    "        keywords_i_string = keywords_i_string + \" \" + keyword\n",
    "    keywords.append(keywords_i_string)\n",
    "df['keywords'] = keywords\n",
    "df['keywords'][0]"
   ]
  },
  {
   "cell_type": "code",
   "execution_count": 9,
   "id": "a05b4849",
   "metadata": {},
   "outputs": [],
   "source": [
    "content = genre + df['keywords']"
   ]
  },
  {
   "cell_type": "markdown",
   "id": "e2165f8b",
   "metadata": {},
   "source": [
    "### Vector hóa content"
   ]
  },
  {
   "cell_type": "code",
   "execution_count": 10,
   "id": "20b63104",
   "metadata": {},
   "outputs": [],
   "source": [
    "from sklearn.feature_extraction.text import CountVectorizer\n",
    "from sklearn.metrics.pairwise import cosine_similarity"
   ]
  },
  {
   "cell_type": "code",
   "execution_count": 11,
   "id": "a6967125",
   "metadata": {},
   "outputs": [
    {
     "data": {
      "text/plain": [
       "array([[0, 0, 0, ..., 0, 0, 0],\n",
       "       [0, 0, 0, ..., 0, 0, 0],\n",
       "       [0, 0, 0, ..., 0, 0, 0],\n",
       "       ...,\n",
       "       [0, 0, 0, ..., 0, 0, 0],\n",
       "       [0, 0, 0, ..., 0, 0, 0],\n",
       "       [0, 0, 0, ..., 0, 0, 0]], dtype=int64)"
      ]
     },
     "execution_count": 11,
     "metadata": {},
     "output_type": "execute_result"
    }
   ],
   "source": [
    "vectorizer = CountVectorizer()\n",
    "vectorized_content_based = vectorizer.fit_transform(content)\n",
    "vectorized_content_based = vectorized_content_based.toarray()\n",
    "vectorized_content_based"
   ]
  },
  {
   "cell_type": "markdown",
   "id": "344c2f16",
   "metadata": {},
   "source": [
    "### Đẩy dữ liệu vector và anime vào vectordb bằng file parquet\n",
    "- Đầu tiên ta sẽ tạo ra các file parquet. Sau đó truyền file, đẩy file lên hdfs và thực hiện load data"
   ]
  },
  {
   "cell_type": "code",
   "execution_count": 12,
   "id": "e82cc4fd",
   "metadata": {},
   "outputs": [],
   "source": [
    "# vector\n",
    "count = 1\n",
    "id = []\n",
    "indexes = []\n",
    "values = []\n",
    "for vector in vectorized_content_based:\n",
    "    for i,val in enumerate(vector):\n",
    "        if val != 0:\n",
    "            id.append(count)\n",
    "            indexes.append(i)\n",
    "            values.append(val)\n",
    "    count+=1\n",
    "vector_df = pd.DataFrame({\n",
    "    'vector_id': id,\n",
    "    'vector_index': indexes,\n",
    "    'vector_value': values\n",
    "})\n",
    "\n",
    "\n",
    "# mapping\n",
    "mapping_df = pd.DataFrame({\n",
    "    'vector_id': list(range(1, len(vectorized_content_based) + 1)),\n",
    "    'title': df['title'],\n",
    "    'img_url': df['img_url'],\n",
    "    'link':df['link']\n",
    "})\n",
    "\n",
    "# convert type\n",
    "vector_df['vector_id'] = vector_df['vector_id'].astype(np.int32)\n",
    "vector_df['vector_index'] = vector_df['vector_index'].astype(np.int32)\n",
    "vector_df['vector_value'] = vector_df['vector_value'].astype(np.int32)\n",
    "mapping_df['vector_id'] = mapping_df['vector_id'].astype(np.int32)"
   ]
  },
  {
   "cell_type": "code",
   "execution_count": 13,
   "id": "e19c5197",
   "metadata": {},
   "outputs": [],
   "source": [
    "import pyarrow as pa\n",
    "import pyarrow.parquet as pq"
   ]
  },
  {
   "cell_type": "code",
   "execution_count": 14,
   "id": "b1a2da88",
   "metadata": {},
   "outputs": [],
   "source": [
    "# Tạo schema và table vector\n",
    "vector_schema = pa.schema([\n",
    "    ('vector_id', pa.int32()),\n",
    "    ('vector_index', pa.int32()),\n",
    "    ('vector_value', pa.int32()),\n",
    "])\n",
    "vector_table = pa.Table.from_pandas(vector_df, schema=vector_schema)\n",
    "\n",
    "# Tạo schema và table mapping\n",
    "mapping_schema = pa.schema([\n",
    "    ('vector_id', pa.int32()),\n",
    "    ('title', pa.string()),\n",
    "    ('img_url', pa.string()),\n",
    "    ('link', pa.string())\n",
    "])\n",
    "mapping_table = pa.Table.from_pandas(mapping_df, schema=mapping_schema)"
   ]
  },
  {
   "cell_type": "code",
   "execution_count": 15,
   "id": "e67aef65",
   "metadata": {},
   "outputs": [],
   "source": [
    "# Lưu table thành file parquet\n",
    "pq.write_table(vector_table, 'vector.parquet',version=\"1.0\")\n",
    "pq.write_table(mapping_table, 'mapping.parquet',version=\"1.0\")"
   ]
  },
  {
   "cell_type": "markdown",
   "id": "995511a4",
   "metadata": {},
   "source": [
    "- Truyền file và đẩy file lên hdfs"
   ]
  },
  {
   "cell_type": "code",
   "execution_count": 16,
   "id": "2c251f5c",
   "metadata": {},
   "outputs": [],
   "source": [
    "import paramiko\n",
    "import os"
   ]
  },
  {
   "cell_type": "code",
   "execution_count": 17,
   "id": "817e72f1",
   "metadata": {},
   "outputs": [],
   "source": [
    "def transfer_file_to_centos(local_path, remote_path, centos_ip, username, password):\n",
    "    # Tạo một đối tượng SSHClient từ thư viện Paramiko\n",
    "    ssh = paramiko.SSHClient()\n",
    "    ssh.set_missing_host_key_policy(paramiko.AutoAddPolicy())\n",
    "    \n",
    "    try:\n",
    "        # Kết nối đến máy CentOS\n",
    "        ssh.connect(centos_ip, username=username, password=password)\n",
    "        \n",
    "        # Sử dụng SFTP để truyền tệp\n",
    "        sftp = ssh.open_sftp()\n",
    "        \n",
    "        # Truyền tệp từ máy Windows sang máy CentOS\n",
    "        sftp.put(local_path, remote_path)\n",
    "        \n",
    "        # Đóng kết nối SFTP\n",
    "        sftp.close()\n",
    "        \n",
    "        print(\"File đã được truyền thành công!\")\n",
    "    except Exception as e:\n",
    "        print(\"Lỗi khi truyền tệp:\", e)\n",
    "    finally:\n",
    "        # Đóng kết nối SSH\n",
    "        ssh.close()\n",
    "        \n",
    "def command_line_to_centos(centos_ip, username, password, command):\n",
    "    # Tạo một đối tượng SSHClient từ thư viện Paramiko\n",
    "    ssh = paramiko.SSHClient()\n",
    "    ssh.set_missing_host_key_policy(paramiko.AutoAddPolicy())\n",
    "    \n",
    "    try:\n",
    "        # Kết nối đến máy CentOS\n",
    "        ssh.connect(centos_ip, username=username, password=password)\n",
    "        \n",
    "        # Thực hiện lệnh trên máy CentOS\n",
    "        stdin, stdout, stderr = ssh.exec_command(command)\n",
    "        \n",
    "        # In ra kết quả của lệnh\n",
    "        print(stdout.read().decode())\n",
    "        print(stderr.read().decode())\n",
    "    except Exception as e:\n",
    "        print(\"Lỗi khi thực hiện lệnh:\", e)\n",
    "    finally:\n",
    "        # Đóng kết nối SSH\n",
    "        ssh.close()\n"
   ]
  },
  {
   "cell_type": "code",
   "execution_count": 18,
   "id": "0bf9042e",
   "metadata": {},
   "outputs": [],
   "source": [
    "# Thông tin đăng nhập cho máy CentOS\n",
    "centos_ip = IP\n",
    "username = \"cloudera\"\n",
    "password = \"cloudera\""
   ]
  },
  {
   "cell_type": "code",
   "execution_count": 19,
   "id": "710af240",
   "metadata": {},
   "outputs": [
    {
     "name": "stdout",
     "output_type": "stream",
     "text": [
      "\n",
      "\n",
      "\n",
      "\n",
      "File đã được truyền thành công!\n",
      "File đã được truyền thành công!\n"
     ]
    }
   ],
   "source": [
    "# Tạo ra thư mục chứa file parquet cũng như cấu trúc metadata của parquet đó (bên máy centos)\n",
    "command_line_to_centos(centos_ip,username,password,\"mkdir /home/cloudera/anime_vector_parquet\")\n",
    "command_line_to_centos(centos_ip,username,password,\"mkdir /home/cloudera/anime_mapping_parquet\")\n",
    "\n",
    "# Đẩy 2 file parquet vào 2 thư mục trên\n",
    "transfer_file_to_centos(\"./vector.parquet\",\"/home/cloudera/anime_vector_parquet/vector.parquet\",centos_ip,username,password)\n",
    "transfer_file_to_centos(\"./mapping.parquet\",\"/home/cloudera/anime_mapping_parquet/mapping.parquet\",centos_ip,username,password)"
   ]
  },
  {
   "cell_type": "code",
   "execution_count": 20,
   "id": "4ba3129a",
   "metadata": {},
   "outputs": [
    {
     "name": "stdout",
     "output_type": "stream",
     "text": [
      "\n",
      "copyFromLocal: Permission denied: user=cloudera, access=WRITE, inode=\"/\":hdfs:supergroup:drwxr-xr-x\n",
      "\n",
      "\n",
      "copyFromLocal: Permission denied: user=cloudera, access=WRITE, inode=\"/\":hdfs:supergroup:drwxr-xr-x\n",
      "\n"
     ]
    }
   ],
   "source": [
    "# Copy 2 thư mục đã tạo vào hdfs\n",
    "command_line_to_centos(centos_ip,username,password,\"hdfs dfs -copyFromLocal /home/cloudera/anime_mapping_parquet hdfs://quickstart.cloudera:8020/anime_mapping_parquet\")\n",
    "command_line_to_centos(centos_ip,username,password,\"hdfs dfs -copyFromLocal /home/cloudera/anime_vector_parquet hdfs://quickstart.cloudera:8020/anime_vector_parquet\")"
   ]
  },
  {
   "cell_type": "markdown",
   "id": "2532d040",
   "metadata": {},
   "source": [
    "#### Lưu ý: nếu có lỗi sau\n",
    "```\n",
    "copyFromLocal: Permission denied: user=cloudera, access=WRITE, inode=\"/\":hdfs:supergroup:drwxr-xr-x\n",
    "```\n",
    "- Ta sẽ giải quyết bằng cách tạo ra một thư mục user mới trong hdfs và cấp quyền cho nó"
   ]
  },
  {
   "cell_type": "code",
   "execution_count": 21,
   "id": "8c3da68c",
   "metadata": {},
   "outputs": [
    {
     "name": "stdout",
     "output_type": "stream",
     "text": [
      "\n",
      "mkdir: `/user/hoaitrong': File exists\n",
      "\n",
      "\n",
      "\n"
     ]
    }
   ],
   "source": [
    "# Giải quyết lỗi Permission denied\n",
    "command_line_to_centos(centos_ip,username,password,\"sudo -u hdfs hadoop fs -mkdir /user/hoaitrong\")\n",
    "command_line_to_centos(centos_ip,username,password,\"sudo -u hdfs hadoop fs -chmod -R 777 /user/hoaitrong\")"
   ]
  },
  {
   "cell_type": "code",
   "execution_count": 22,
   "id": "be817e4a",
   "metadata": {},
   "outputs": [
    {
     "name": "stdout",
     "output_type": "stream",
     "text": [
      "Found 9 items\n",
      "drwxr-xr-x   - cloudera cloudera            0 2024-05-11 02:31 hdfs://quickstart.cloudera:8020/user/cloudera\n",
      "drwxr-xr-x   - mapred   hadoop              0 2024-05-11 01:38 hdfs://quickstart.cloudera:8020/user/history\n",
      "drwxrwxrwx   - hive     supergroup          0 2017-10-23 09:17 hdfs://quickstart.cloudera:8020/user/hive\n",
      "drwxrwxrwx   - hdfs     supergroup          0 2024-05-14 07:01 hdfs://quickstart.cloudera:8020/user/hoaitrong\n",
      "drwxrwxrwx   - hue      supergroup          0 2024-05-11 01:44 hdfs://quickstart.cloudera:8020/user/hue\n",
      "drwxrwxrwx   - jenkins  supergroup          0 2017-10-23 09:15 hdfs://quickstart.cloudera:8020/user/jenkins\n",
      "drwxrwxrwx   - oozie    supergroup          0 2017-10-23 09:16 hdfs://quickstart.cloudera:8020/user/oozie\n",
      "drwxrwxrwx   - root     supergroup          0 2024-05-11 11:02 hdfs://quickstart.cloudera:8020/user/root\n",
      "drwxr-xr-x   - hdfs     supergroup          0 2017-10-23 09:17 hdfs://quickstart.cloudera:8020/user/spark\n",
      "\n",
      "\n"
     ]
    }
   ],
   "source": [
    "command_line_to_centos(centos_ip,username,password,\"hdfs dfs -ls hdfs://quickstart.cloudera:8020/user/\")"
   ]
  },
  {
   "cell_type": "code",
   "execution_count": 23,
   "id": "3a1e3f99",
   "metadata": {},
   "outputs": [
    {
     "name": "stdout",
     "output_type": "stream",
     "text": [
      "\n",
      "\n",
      "\n",
      "\n"
     ]
    }
   ],
   "source": [
    "command_line_to_centos(centos_ip,username,password,\"hdfs dfs -copyFromLocal /home/cloudera/anime_mapping_parquet hdfs://quickstart.cloudera:8020/user/hoaitrong/anime_mapping_parquet\")\n",
    "command_line_to_centos(centos_ip,username,password,\"hdfs dfs -copyFromLocal /home/cloudera/anime_vector_parquet hdfs://quickstart.cloudera:8020/user/hoaitrong/anime_vector_parquet\")"
   ]
  },
  {
   "cell_type": "code",
   "execution_count": 24,
   "id": "1c2a75a5",
   "metadata": {},
   "outputs": [
    {
     "name": "stdout",
     "output_type": "stream",
     "text": [
      "Found 2 items\n",
      "drwxr-xr-x   - cloudera supergroup          0 2024-05-14 08:55 hdfs://quickstart.cloudera:8020/user/hoaitrong/anime_mapping_parquet\n",
      "drwxr-xr-x   - cloudera supergroup          0 2024-05-14 08:55 hdfs://quickstart.cloudera:8020/user/hoaitrong/anime_vector_parquet\n",
      "\n",
      "\n"
     ]
    }
   ],
   "source": [
    "command_line_to_centos(centos_ip,username,password,\"hdfs dfs -ls hdfs://quickstart.cloudera:8020/user/hoaitrong/\")"
   ]
  },
  {
   "cell_type": "markdown",
   "id": "c426760a",
   "metadata": {},
   "source": [
    "### Tạo database và tạo bảng"
   ]
  },
  {
   "cell_type": "code",
   "execution_count": 27,
   "id": "baef4086",
   "metadata": {},
   "outputs": [
    {
     "name": "stdout",
     "output_type": "stream",
     "text": [
      "_impala_builtins\n",
      "default\n",
      "vectordb\n"
     ]
    }
   ],
   "source": [
    "# Tạo csdl vectordb\n",
    "Impala_Query(\"CREATE DATABASE IF NOT EXISTS vectordb\")\n",
    "databases = Impala_Query(\"SHOW DATABASES\")\n",
    "for db in databases:\n",
    "    print(db[0])"
   ]
  },
  {
   "cell_type": "code",
   "execution_count": 28,
   "id": "8425d790",
   "metadata": {},
   "outputs": [],
   "source": [
    "# Tạo bảng anime_vector\n",
    "query = \"\"\"\n",
    "CREATE EXTERNAL TABLE anime_vector (\n",
    "    vector_id INT, \n",
    "    vector_index INT,\n",
    "    vector_value INT\n",
    ") \n",
    "STORED AS PARQUET \n",
    "LOCATION 'hdfs://quickstart.cloudera:8020/user/hoaitrong/anime_vector_parquet';\n",
    "\"\"\"\n",
    "Impala_Query(query,\"vectordb\")\n",
    "\n",
    "query = \"\"\"\n",
    "CREATE EXTERNAL TABLE anime_mapping (\n",
    "    vector_id INT, \n",
    "    title STRING, \n",
    "    img_url STRING, \n",
    "    link STRING\n",
    ") \n",
    "STORED AS PARQUET \n",
    "LOCATION 'hdfs://quickstart.cloudera:8020/user/hoaitrong/anime_mapping_parquet'\n",
    "\"\"\"\n",
    "Impala_Query(query,\"vectordb\")"
   ]
  },
  {
   "cell_type": "code",
   "execution_count": 29,
   "id": "b4ba9f7c",
   "metadata": {},
   "outputs": [
    {
     "name": "stdout",
     "output_type": "stream",
     "text": [
      "Cấu trúc bảng anime_vector:\n",
      "('vector_id', 'int')\n",
      "('vector_index', 'int')\n",
      "('vector_value', 'int')\n",
      "Cấu trúc bảng anime_mapping:\n",
      "('vector_id', 'int')\n",
      "('title', 'string')\n",
      "('img_url', 'string')\n",
      "('link', 'string')\n"
     ]
    }
   ],
   "source": [
    "# Kiểm tra cấu trúc\n",
    "print(\"Cấu trúc bảng anime_vector:\")\n",
    "result = Impala_Query(\"DESCRIBE anime_vector\",\"vectordb\")\n",
    "for row in result:\n",
    "    print(row[0:2])\n",
    "    \n",
    "print(\"Cấu trúc bảng anime_mapping:\")\n",
    "result = Impala_Query(\"DESCRIBE anime_mapping\",\"vectordb\")\n",
    "for row in result:\n",
    "    print(row[0:2])"
   ]
  },
  {
   "cell_type": "markdown",
   "id": "ff9d937c",
   "metadata": {},
   "source": [
    "### Thử truy vấn đơn giản"
   ]
  },
  {
   "cell_type": "code",
   "execution_count": 30,
   "id": "c1167a67",
   "metadata": {},
   "outputs": [],
   "source": [
    "import time"
   ]
  },
  {
   "cell_type": "code",
   "execution_count": 31,
   "id": "b5c041e3",
   "metadata": {
    "scrolled": true
   },
   "outputs": [
    {
     "name": "stdout",
     "output_type": "stream",
     "text": [
      "[(145, 'Naruto', 'https://cdn.myanimelist.net/images/anime/13/17405.jpg', 'https://myanimelist.net/anime/20/Naruto')]\n",
      "0.9109818935394287  seconds\n"
     ]
    }
   ],
   "source": [
    "start = time.time()\n",
    "result = Impala_Query(\"SELECT * FROM anime_mapping WHERE title='Naruto'\",\"vectordb\")\n",
    "end = time.time()\n",
    "print(result)\n",
    "print(end - start,\" seconds\")"
   ]
  },
  {
   "cell_type": "code",
   "execution_count": 32,
   "id": "07e205e0",
   "metadata": {},
   "outputs": [
    {
     "name": "stdout",
     "output_type": "stream",
     "text": [
      "Truy vấn 575171 dòng trong thời gian 1.3557868003845215 giây!\n"
     ]
    }
   ],
   "source": [
    "start = time.time()\n",
    "result = Impala_Query(\"SELECT * FROM anime_vector\",\"vectordb\")\n",
    "end = time.time()\n",
    "print(f\"Truy vấn {len(result)} dòng trong thời gian {end - start} giây!\")"
   ]
  },
  {
   "cell_type": "markdown",
   "id": "17eb3997",
   "metadata": {},
   "source": [
    "## 3. Xây dựng hệ thống truy vấn so sánh vector - Vector Search\n",
    "\n",
    "- Vector Search trong Project được thực hiện như sau:\n",
    "> - **Người dùng** -------- Thực hiện truy vấn theo tên anime --------------> **Vector Seach Program**\n",
    "> - **Vector Seach Program** ------- Lấy ra vector tương ứng với tên anime ----> **vectordb**\n",
    "> - **Vector Seach Program** --- Lấy ra toàn bộ vector ----> **vectordb**\n",
    "> - **Vector Seach Program** --- Tính toán N các vector tương tự --- Lấy ra thông tin anime mapping tương ứng ---> **vectordb**\n",
    "> - **Vector Seach Program** --- Trả về thông tin top anime tương tự -------> **Người dùng**"
   ]
  },
  {
   "cell_type": "code",
   "execution_count": 33,
   "id": "4f3294b5",
   "metadata": {},
   "outputs": [],
   "source": [
    "import math"
   ]
  },
  {
   "cell_type": "code",
   "execution_count": 34,
   "id": "be1217e0",
   "metadata": {},
   "outputs": [],
   "source": [
    "class Vector:\n",
    "    def __init__(self,vector_id, vector_inf):\n",
    "        self.vector_id = vector_id\n",
    "        self.vector_inf = vector_inf\n",
    "        \n",
    "    def length(self):\n",
    "        length = 0\n",
    "        for inf in self.vector_inf:\n",
    "            length += inf[1] ** 2\n",
    "        return math.sqrt(length)\n",
    "\n",
    "def similar_cosine(vector_a,vector_b):\n",
    "    dot_vector = 0\n",
    "    for inf_a in vector_a.vector_inf:\n",
    "        for inf_b in vector_b.vector_inf:\n",
    "            if inf_a[0] == inf_b[0]:\n",
    "                dot_vector += inf_a[1] * inf_b[1]\n",
    "    return dot_vector / (vector_a.length() * vector_b.length())\n",
    "    \n",
    "def Vector_query(title):\n",
    "    anime_mapping = Impala_Query(f\"SELECT vector_id FROM anime_mapping WHERE title='{title}'\",\"vectordb\")\n",
    "    if anime_mapping == None:\n",
    "        print(\"Không có kết quả nào!\")\n",
    "        return None\n",
    "    else:\n",
    "        anime_vector = Impala_Query(f\"SELECT vector_index, vector_value FROM anime_vector WHERE vector_id={anime_mapping[0][0]}\",\"vectordb\")\n",
    "        return Vector(anime_mapping[0][0],anime_vector)\n",
    "    \n",
    "def Vector_search(vector,limit=10):\n",
    "    full_anime_vector = Impala_Query(f\"SELECT * FROM anime_vector\",\"vectordb\")\n",
    "    vectors = []\n",
    "    anime_vector_dict = {}\n",
    "    for anime_vector in full_anime_vector:\n",
    "        key = anime_vector[0]\n",
    "        if key in anime_vector_dict:\n",
    "            anime_vector_dict[key].append(anime_vector[1:3])\n",
    "        else:\n",
    "            anime_vector_dict[key] = [anime_vector[1:3]]\n",
    "    for key in anime_vector_dict:\n",
    "        vectors.append(Vector(key,anime_vector_dict[key]))\n",
    "        \n",
    "    sim_cosine_dict = {}\n",
    "    for vector_temp in vectors:\n",
    "        sim_cosine_dict[vector_temp.vector_id] = similar_cosine(vector,vector_temp)\n",
    "    \n",
    "    sorted_sim_cosine_dict = sorted(sim_cosine_dict.items(), key=lambda x: x[1], reverse=True)[1:limit+1]\n",
    "    top_id = [inf[0] for inf in sorted_sim_cosine_dict]\n",
    "    \n",
    "    # Return result\n",
    "    animes = Impala_Query(f\"SELECT * FROM anime_mapping WHERE vector_id IN ({','.join(map(str,top_id))})\",\"vectordb\")\n",
    "    for anime in animes:\n",
    "        print(anime)\n",
    "    "
   ]
  },
  {
   "cell_type": "code",
   "execution_count": 36,
   "id": "176718fc",
   "metadata": {},
   "outputs": [
    {
     "name": "stdout",
     "output_type": "stream",
     "text": [
      "(486, 'Naruto: Shippuuden', 'https://cdn.myanimelist.net/images/anime/5/17407.jpg', 'https://myanimelist.net/anime/1735/Naruto__Shippuuden')\n",
      "(924, 'Naruto: Shippuuden Movie 6 - Road to Ninja', 'https://cdn.myanimelist.net/images/anime/6/51863.jpg', 'https://myanimelist.net/anime/13667/Naruto__Shippuuden_Movie_6_-_Road_to_Ninja')\n",
      "(4131, 'Boruto: Naruto the Movie', 'https://cdn.myanimelist.net/images/anime/4/78280.jpg', 'https://myanimelist.net/anime/28755/Boruto__Naruto_the_Movie')\n",
      "(5503, 'Naruto: Shippuuden Movie 5 - Blood Prison', 'https://cdn.myanimelist.net/images/anime/13/41403.jpg', 'https://myanimelist.net/anime/10589/Naruto__Shippuuden_Movie_5_-_Blood_Prison')\n",
      "(13478, 'Boruto: Naruto Next Generations', 'https://cdn.myanimelist.net/images/anime/9/84460.jpg', 'https://myanimelist.net/anime/34566/Boruto__Naruto_Next_Generations')\n",
      "\n",
      "\n",
      "=============================================================\n",
      "Vector Search được thực hiện trong 4.815884828567505 giây!\n"
     ]
    }
   ],
   "source": [
    "start = time.time()\n",
    "vector = Vector_query(\"Naruto\")\n",
    "Vector_search(vector,5)\n",
    "end = time.time()\n",
    "\n",
    "print(\"\\n\\n=============================================================\")\n",
    "print(f\"Vector Search được thực hiện trong {end-start} giây!\")"
   ]
  },
  {
   "cell_type": "markdown",
   "id": "355ed71f",
   "metadata": {},
   "source": [
    "# Kết luận:\n",
    "- **Về tốc độ:**\n",
    "> - Tốc độ truy vấn của Impala thật sự rất nhanh trong Demo Project này. Nếu được setup ở điều kiện vật chất tốt hơn cũng như là phát triển thêm về cách lưu trữ (phân vùng, giải thuật index tối ưu hơn,...), Impala sẽ còn truy vấn nhanh hơn mong đợi của chúng ta\n",
    "> - Với 16368 thông tin anime và 575171 dòng thông tin vector phim được lưu trữ trong database thì việc truy vấn bằng các query enginee thông thường thì có lẽ rất mất thời gian hơn hẵn. Nhưng với Impala - công cụ truy vấn dữ liệu song song mạnh mẽ, thời gian truy vấn được rút ngắn đáng kể.\n",
    "\n",
    "- **Về hiệu suất:**\n",
    "> - Trong quá trình thử nghiệm, Impala đã chứng minh được khả năng xử lý dữ liệu với tốc độ đáng kinh ngạc. Điều này chứng tỏ tiềm năng lớn của công cụ này khi được triển khai trong môi trường sản xuất.\n",
    "Số lượng lớn thông tin anime và dòng thông tin vector phim được lưu trữ không làm ảnh hưởng đến khả năng xử lý của Impala, điều này là một ưu điểm lớn so với các query engine thông thường.\n",
    "\n",
    "- **Về khả năng mở rộng:**\n",
    "> - Impala đã thể hiện sự linh hoạt trong việc mở rộng và điều chỉnh để phù hợp với nhu cầu và quy mô dữ liệu của dự án.\n",
    "Việc tối ưu hóa cách lưu trữ, bao gồm phân vùng và sử dụng các giải thuật index hiệu quả, có thể giúp tăng cường hiệu suất của Impala trong tương lai.\n",
    "\n",
    "- **Kế hoạch phát triển Project:**\n",
    "> - Cần tiếp tục nghiên cứu và thử nghiệm các phương pháp tối ưu hóa khác nhau để tăng cường hiệu suất và khả năng mở rộng của Impala.\n",
    "> - Xem xét việc triển khai các cải tiến về cách lưu trữ và quản lý dữ liệu để tối ưu hóa việc sử dụng Impala trong môi trường sản xuất."
   ]
  },
  {
   "cell_type": "code",
   "execution_count": null,
   "id": "19ae001f",
   "metadata": {},
   "outputs": [],
   "source": []
  }
 ],
 "metadata": {
  "kernelspec": {
   "display_name": "Python 3 (ipykernel)",
   "language": "python",
   "name": "python3"
  },
  "language_info": {
   "codemirror_mode": {
    "name": "ipython",
    "version": 3
   },
   "file_extension": ".py",
   "mimetype": "text/x-python",
   "name": "python",
   "nbconvert_exporter": "python",
   "pygments_lexer": "ipython3",
   "version": "3.9.13"
  }
 },
 "nbformat": 4,
 "nbformat_minor": 5
}
